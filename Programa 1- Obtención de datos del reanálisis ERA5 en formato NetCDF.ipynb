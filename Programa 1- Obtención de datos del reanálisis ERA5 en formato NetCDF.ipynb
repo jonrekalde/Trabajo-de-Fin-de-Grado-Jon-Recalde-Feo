{
 "cells": [
  {
   "cell_type": "code",
   "execution_count": null,
   "metadata": {},
   "outputs": [],
   "source": [
    "import cdsapi\n",
    "\n",
    "c = cdsapi.Client()\n",
    "\n",
    "c.retrieve(\n",
    "    'reanalysis-era5-single-levels-monthly-means',\n",
    "    {\n",
    "        'format': 'netcdf',\n",
    "        'product_type': 'monthly_averaged_reanalysis',\n",
    "        'variable': [\n",
    "            'evaporation', 'geopotential', 'land_sea_mask',\n",
    "            'runoff', 'total_precipitation', 'vertical_integral_of_eastward_water_vapour_flux',\n",
    "            'vertical_integral_of_northward_water_vapour_flux',\n",
    "        ],\n",
    "        'year': [\n",
    "            '2015', '2016', '2017',\n",
    "            '2018', '2019',\n",
    "        ],\n",
    "        'month': [\n",
    "            '01', '02', '03',\n",
    "            '04', '05', '06',\n",
    "            '07', '08', '09',\n",
    "            '10', '11', '12',\n",
    "        ],\n",
    "        'grid':'1.0/1.0',\n",
    "        'time': '00:00',\n",
    "        'area': [\n",
    "            90, -180, -90,\n",
    "            180,\n",
    "            ],\n",
    "\n",
    "    },\n",
    "    'Mundo_2015_2019.nc')"
   ]
  }
 ],
 "metadata": {
  "kernelspec": {
   "display_name": "Python 3",
   "language": "python",
   "name": "python3"
  },
  "language_info": {
   "codemirror_mode": {
    "name": "ipython",
    "version": 3
   },
   "file_extension": ".py",
   "mimetype": "text/x-python",
   "name": "python",
   "nbconvert_exporter": "python",
   "pygments_lexer": "ipython3",
   "version": "3.8.3"
  }
 },
 "nbformat": 4,
 "nbformat_minor": 4
}
